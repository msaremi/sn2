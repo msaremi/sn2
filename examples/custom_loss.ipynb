{
 "cells": [
  {
   "cell_type": "markdown",
   "metadata": {
    "collapsed": true,
    "pycharm": {
     "name": "#%% md\n"
    }
   },
   "source": [
    "# Custom Loss\n",
    "The SN² Solver tries to minimize the distance between the sample covariance\n",
    "and the covariance induced by the model. There are more than one way to compute\n",
    "this distance.\n",
    "\n",
    "We will go through different methods for computing the distance between the sample covariance and the induced one.\n",
    "These functions will be called the loss functions.\n",
    "Let's start by taking the example from the [introduction](introduction.ipynb).\n"
   ]
  },
  {
   "cell_type": "code",
   "execution_count": 1,
   "metadata": {
    "pycharm": {
     "name": "#%%\n"
    }
   },
   "outputs": [],
   "source": [
    "import torch\n",
    "from sn2_cuda import SN2Solver\n",
    "from sn2_cuda.loss import LossBase, KullbackLeibler, Bhattacharyya\n",
    "\n",
    "device = torch.device(\"cuda\")\n",
    "\n",
    "struct = torch.tensor([\n",
    "        [1, 1, 1, 0],\n",
    "        [0, 1, 0, 1],\n",
    "        [1, 0, 0, 0],\n",
    "        [0, 1, 0, 0],\n",
    "        [0, 0, 1, 0],\n",
    "        [0, 0, 0, 1],\n",
    "        [0, 1, 1, 1],  # V_X\n",
    "        [0, 0, 1, 0],  # V_BP\n",
    "        [0, 0, 0, 1],  # V_BMI\n",
    "        [0, 0, 0, 0],  # V_Y\n",
    "    ], dtype=torch.bool)\n",
    "\n",
    "sample_covariance = torch.tensor([\n",
    "        [2,  3,  6,  8],\n",
    "        [3,  7, 12, 16],\n",
    "        [6, 12, 23, 30],\n",
    "        [8, 16, 30, 41],\n",
    "    ], device=device)"
   ]
  },
  {
   "cell_type": "markdown",
   "metadata": {
    "pycharm": {
     "name": "#%% md\n"
    }
   },
   "source": [
    "Before anything, we encapsulate our training code for multiple use."
   ]
  },
  {
   "cell_type": "code",
   "execution_count": 2,
   "metadata": {
    "pycharm": {
     "name": "#%%\n"
    }
   },
   "outputs": [],
   "source": [
    "def parametrize(pmDAG, max_iterations, min_error):\n",
    "    optim = torch.optim.Adamax([pmDAG.weights], lr=0.001)\n",
    "\n",
    "    for i in range(max_iterations):\n",
    "        pmDAG.forward()\n",
    "        error = pmDAG.loss().item()\n",
    "\n",
    "        if error < min_error:\n",
    "            break\n",
    "\n",
    "        pmDAG.backward()\n",
    "        optim.step()\n",
    "\n",
    "        if i % (max_iterations / 10) == 0:\n",
    "            print(f\"iteration={i:<10} loss={error:<15.5}\")\n",
    "    else:\n",
    "        print(\"Did not converge in the maximum number of iterations!\")"
   ]
  },
  {
   "cell_type": "markdown",
   "metadata": {
    "pycharm": {
     "name": "#%% md\n"
    }
   },
   "source": [
    "We also configure the parametrization options."
   ]
  },
  {
   "cell_type": "code",
   "execution_count": 3,
   "outputs": [],
   "source": [
    "max_iterations = 10000\n",
    "min_error = 1.0e-7"
   ],
   "metadata": {
    "collapsed": false,
    "pycharm": {
     "name": "#%%\n"
    }
   }
  },
  {
   "cell_type": "markdown",
   "source": [
    "We can use different built-in loss functions, namely `KullbackLeibler` and `Bhattacharyya`.\n",
    "`KullbackLeibler` is the default loss function and the pmDAG parametrized using this loss function will be the\n",
    "maximum likelihood estimation of the pmDAG."
   ],
   "metadata": {
    "collapsed": false,
    "pycharm": {
     "name": "#%% md\n"
    }
   }
  },
  {
   "cell_type": "code",
   "execution_count": 4,
   "outputs": [
    {
     "name": "stdout",
     "output_type": "stream",
     "text": [
      "iteration=0          loss=13.264         \n",
      "iteration=1000       loss=2.0703         \n",
      "iteration=2000       loss=1.5913         \n",
      "iteration=3000       loss=0.58577        \n",
      "iteration=4000       loss=0.021066       \n",
      "iteration=5000       loss=9.5367e-07     \n"
     ]
    }
   ],
   "source": [
    "pmDAG = SN2Solver(\n",
    "    struct,\n",
    "    sample_covariance=sample_covariance,\n",
    "    loss=KullbackLeibler()\n",
    ")\n",
    "\n",
    "parametrize(pmDAG, max_iterations=max_iterations, min_error=min_error)"
   ],
   "metadata": {
    "collapsed": false,
    "pycharm": {
     "name": "#%%\n"
    }
   }
  },
  {
   "cell_type": "markdown",
   "source": [
    "We could use the `Bhattacharyya` loss function, and it would give us the same paramterized pmDAG.\n"
   ],
   "metadata": {
    "collapsed": false,
    "pycharm": {
     "name": "#%% md\n"
    }
   }
  },
  {
   "cell_type": "code",
   "execution_count": 5,
   "outputs": [
    {
     "name": "stdout",
     "output_type": "stream",
     "text": [
      "iteration=0          loss=2.1867         \n",
      "iteration=1000       loss=0.98265        \n",
      "iteration=2000       loss=0.3687         \n",
      "iteration=3000       loss=0.044149       \n",
      "iteration=4000       loss=1.9431e-05     \n"
     ]
    }
   ],
   "source": [
    "pmDAG = SN2Solver(\n",
    "    struct,\n",
    "    sample_covariance=sample_covariance,\n",
    "    loss=Bhattacharyya()\n",
    ")\n",
    "\n",
    "parametrize(pmDAG, max_iterations=max_iterations, min_error=min_error)"
   ],
   "metadata": {
    "collapsed": false,
    "pycharm": {
     "name": "#%%\n"
    }
   }
  },
  {
   "cell_type": "markdown",
   "source": [
    "This prints the same covariance matrix as before.\n"
   ],
   "metadata": {
    "collapsed": false,
    "pycharm": {
     "name": "#%% md\n"
    }
   }
  },
  {
   "cell_type": "code",
   "execution_count": 6,
   "outputs": [
    {
     "name": "stdout",
     "output_type": "stream",
     "text": [
      "tensor([[ 2.0016,  3.0052,  6.0065,  8.0149],\n",
      "        [ 3.0052,  7.0132, 12.0196, 16.0357],\n",
      "        [ 6.0065, 12.0196, 23.0264, 30.0542],\n",
      "        [ 8.0149, 16.0357, 30.0542, 41.0976]], device='cuda:0')\n"
     ]
    }
   ],
   "source": [
    "print(pmDAG.visible_covariance_)"
   ],
   "metadata": {
    "collapsed": false,
    "pycharm": {
     "name": "#%%\n"
    }
   }
  },
  {
   "cell_type": "markdown",
   "source": [
    "## Custom Loss Function\n",
    "\n",
    "When non of the two built-in custom functions are desirable, one could simply define an arbitrary custom loss function.\n",
    "This is done by subclassing the `LossBase` class.\n",
    "\n",
    "The signature of the loss function is as follows. We use the methods that give the\n",
    "Kullback-Leibler divergence from the sample covariange. However, these methods are arbitrary."
   ],
   "metadata": {
    "collapsed": false,
    "pycharm": {
     "name": "#%% md\n"
    }
   }
  },
  {
   "cell_type": "code",
   "execution_count": 7,
   "outputs": [],
   "source": [
    "class MyLoss(LossBase):\n",
    "    def loss_proxy(self, visible_covariance):\n",
    "        return torch.trace(self.sample_covariance_inv @ visible_covariance) - torch.logdet(visible_covariance)\n",
    "\n",
    "    def loss(self, visible_covariance):\n",
    "        return (self.loss_proxy(visible_covariance) - self.size + self.sample_covariance_logdet) / 2\n",
    "\n",
    "    def loss_backward(self, visible_covariance, visible_covariance_grad):\n",
    "        visible_covariance_grad.copy_(self.sample_covariance_inv)\n",
    "        visible_covariance_grad.subtract_(torch.inverse(visible_covariance))"
   ],
   "metadata": {
    "collapsed": false,
    "pycharm": {
     "name": "#%%\n"
    }
   }
  },
  {
   "cell_type": "markdown",
   "source": [
    "Notice that there are three functions to be overloaded: `loss`, `loss_proxy`, and `loss_backward`.\n",
    "- `loss` computes the actual distance between the sample covariance and the induced covariance.\n",
    "- `loss_proxy` is a computationally more effective function that is a monotonic counterpart of the `loss` function\n",
    "- `loss_backward` computes the derivative of the distance with respect t the induced covariance.\n",
    "\n",
    "Among these functions, only `loss_backward` is required for the parametrization to work. The other two can be used\n",
    "to get the loss or loss proxy values when one desires.\n",
    "\n",
    "Now, let's re-parametrize the pmDAG using this new custom function."
   ],
   "metadata": {
    "collapsed": false,
    "pycharm": {
     "name": "#%% md\n"
    }
   }
  },
  {
   "cell_type": "code",
   "execution_count": 8,
   "outputs": [
    {
     "name": "stdout",
     "output_type": "stream",
     "text": [
      "iteration=0          loss=4.3707         \n",
      "iteration=1000       loss=1.0264         \n",
      "iteration=2000       loss=0.2809         \n",
      "iteration=3000       loss=0.015789       \n",
      "iteration=4000       loss=5.9247e-05     \n"
     ]
    }
   ],
   "source": [
    "pmDAG = SN2Solver(\n",
    "    struct,\n",
    "    sample_covariance=sample_covariance,\n",
    "    loss=MyLoss()\n",
    ")\n",
    "\n",
    "parametrize(pmDAG, max_iterations=max_iterations, min_error=min_error)"
   ],
   "metadata": {
    "collapsed": false,
    "pycharm": {
     "name": "#%%\n"
    }
   }
  },
  {
   "cell_type": "markdown",
   "source": [
    "If you notice, this gives similar convergence results to our initial `KullbackLeibler` loss function.\n",
    "Now, let's print the resulting visible covariance matrix."
   ],
   "metadata": {
    "collapsed": false,
    "pycharm": {
     "name": "#%% md\n"
    }
   }
  },
  {
   "cell_type": "code",
   "execution_count": 9,
   "outputs": [
    {
     "name": "stdout",
     "output_type": "stream",
     "text": [
      "tensor([[ 1.9991,  2.9977,  5.9952,  7.9941],\n",
      "        [ 2.9977,  6.9931, 11.9876, 15.9841],\n",
      "        [ 5.9952, 11.9876, 22.9768, 29.9703],\n",
      "        [ 7.9941, 15.9841, 29.9703, 40.9622]], device='cuda:0')\n"
     ]
    }
   ],
   "source": [
    "print(pmDAG.visible_covariance_)"
   ],
   "metadata": {
    "collapsed": false,
    "pycharm": {
     "name": "#%%\n"
    }
   }
  }
 ],
 "metadata": {
  "kernelspec": {
   "name": "pycharm-cba583ec",
   "language": "python",
   "display_name": "PyCharm (An-AI-Chatbot-in-Python-and-Flask-main)"
  },
  "language_info": {
   "codemirror_mode": {
    "name": "ipython",
    "version": 3
   },
   "file_extension": ".py",
   "mimetype": "text/x-python",
   "name": "python",
   "nbconvert_exporter": "python",
   "pygments_lexer": "ipython3",
   "version": "3.9.7"
  }
 },
 "nbformat": 4,
 "nbformat_minor": 1
}