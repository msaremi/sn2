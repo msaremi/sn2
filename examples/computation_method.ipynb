{
 "cells": [
  {
   "cell_type": "markdown",
   "metadata": {
    "collapsed": true,
    "pycharm": {
     "name": "#%% md\n"
    }
   },
   "source": [
    "# Computation Method\n",
    "\n",
    "The SEMNAN Solver has two \"equivalent\" computational methods.\n",
    "These two methods result in the same weight partial derivative in each step.\n",
    "However, you might computationally prefer one method above the other.\n",
    "\n",
    "The two computational methods of the SEMNAN Solver are:\n",
    "- the covariance method, and\n",
    "- the weight accumulation method.\n",
    "By default, the SEMNAN Solver uses the covariance method. However, one might use the accumulation method at will.\n",
    "\n",
    "Let's get started with the same example as in [introduction](introduction.ipynb)."
   ]
  },
  {
   "cell_type": "code",
   "execution_count": 1,
   "metadata": {
    "pycharm": {
     "name": "#%%\n"
    }
   },
   "outputs": [],
   "source": [
    "import torch\n",
    "import semnan_cuda as sc\n",
    "\n",
    "device = torch.device(\"cuda\")\n",
    "\n",
    "struct = torch.tensor([\n",
    "        [1, 1, 1, 0],\n",
    "        [0, 1, 0, 1],\n",
    "        [1, 0, 0, 0],\n",
    "        [0, 1, 0, 0],\n",
    "        [0, 0, 1, 0],\n",
    "        [0, 0, 0, 1],\n",
    "        [0, 1, 1, 1],  # V_X\n",
    "        [0, 0, 1, 0],  # V_BP\n",
    "        [0, 0, 0, 1],  # V_BMI\n",
    "        [0, 0, 0, 0],  # V_Y\n",
    "    ], dtype=torch.bool, device=device)\n",
    "\n",
    "sample_covariance = torch.tensor([\n",
    "        [2,  3,  6,  8],\n",
    "        [3,  7, 12, 16],\n",
    "        [6, 12, 23, 30],\n",
    "        [8, 16, 30, 41],\n",
    "    ], device=device)"
   ]
  },
  {
   "cell_type": "markdown",
   "metadata": {
    "pycharm": {
     "name": "#%% md\n"
    }
   },
   "source": [
    "We may initialize the solver with the accumulation method, instead of the usual method."
   ]
  },
  {
   "cell_type": "code",
   "execution_count": 2,
   "metadata": {
    "pycharm": {
     "name": "#%%\n"
    }
   },
   "outputs": [],
   "source": [
    "semnan = sc.SEMNANSolver(\n",
    "    struct, \n",
    "    sample_covariance=sample_covariance, \n",
    "    method=sc.SEMNANSolver.METHODS.ACCUM\n",
    ")"
   ]
  },
  {
   "cell_type": "markdown",
   "metadata": {
    "pycharm": {
     "name": "#%% md\n"
    }
   },
   "source": [
    "Note that we set `method=sc.SEMNANSolver.METHODS.ACCUM` in the initialization. Alternatively, we could use `method=sc.SEMNANSolver.METHODS.COVAR`.\n",
    "Now, we can start the computation using the same algorithm as in [introduction](introduction.ipynb)."
   ]
  },
  {
   "cell_type": "code",
   "execution_count": 3,
   "metadata": {
    "pycharm": {
     "name": "#%%\n"
    }
   },
   "outputs": [
    {
     "name": "stdout",
     "output_type": "stream",
     "text": [
      "iteration=0          loss=1.6577         \n",
      "iteration=1000       loss=0.085377       \n",
      "iteration=2000       loss=0.00069857     \n"
     ]
    }
   ],
   "source": [
    "max_iterations = 10000\n",
    "min_error = 1.0e-7\n",
    "optim = torch.optim.Adamax([semnan.weights], lr=0.001)\n",
    "\n",
    "for i in range(max_iterations):\n",
    "    semnan.forward()\n",
    "    error = semnan.loss().item()\n",
    "\n",
    "    if error < min_error:\n",
    "        break\n",
    "\n",
    "    semnan.backward()\n",
    "    optim.step()\n",
    "\n",
    "    if i % (max_iterations / 10) == 0:\n",
    "        print(f\"iteration={i:<10} loss={error:<15.5}\")\n",
    "else:\n",
    "    print(\"Did not converge in the maximum number of iterations!\")"
   ]
  },
  {
   "cell_type": "markdown",
   "metadata": {
    "pycharm": {
     "name": "#%% md\n"
    }
   },
   "source": [
    "The resulting visible covariance matrix is:"
   ]
  },
  {
   "cell_type": "code",
   "execution_count": 4,
   "metadata": {
    "pycharm": {
     "name": "#%%\n"
    }
   },
   "outputs": [
    {
     "name": "stdout",
     "output_type": "stream",
     "text": [
      "tensor([[ 1.9997,  2.9992,  5.9987,  7.9978],\n",
      "        [ 2.9992,  6.9994, 11.9984, 15.9974],\n",
      "        [ 5.9987, 11.9984, 22.9963, 29.9953],\n",
      "        [ 7.9978, 15.9974, 29.9953, 40.9930]], device='cuda:0')\n"
     ]
    }
   ],
   "source": [
    "print(semnan.visible_covariance_)"
   ]
  }
 ],
 "metadata": {
  "kernelspec": {
   "display_name": "Python 3 (ipykernel)",
   "language": "python",
   "name": "python3"
  },
  "language_info": {
   "codemirror_mode": {
    "name": "ipython",
    "version": 3
   },
   "file_extension": ".py",
   "mimetype": "text/x-python",
   "name": "python",
   "nbconvert_exporter": "python",
   "pygments_lexer": "ipython3",
   "version": "3.9.7"
  }
 },
 "nbformat": 4,
 "nbformat_minor": 1
}
