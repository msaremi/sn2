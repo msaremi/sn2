{
 "cells": [
  {
   "cell_type": "markdown",
   "metadata": {
    "collapsed": true,
    "pycharm": {
     "name": "#%% md\n"
    }
   },
   "source": [
    "# Computation Method\n",
    "\n",
    "The SN² Solver has two \"equivalent\" computational methods.\n",
    "These two methods result in the same weight partial derivative in each step.\n",
    "However, you might computationally prefer one method above the other.\n",
    "\n",
    "The two computational methods of the SN² Solver are:\n",
    "- the covariance method, and\n",
    "- the weight accumulation method.\n",
    "By default, the SN² Solver uses the covariance method. However, one might use the accumulation method at will.\n",
    "\n",
    "Let's get started with the same example as in [introduction](introduction.ipynb)."
   ]
  },
  {
   "cell_type": "code",
   "execution_count": 1,
   "metadata": {
    "pycharm": {
     "name": "#%%\n"
    }
   },
   "outputs": [],
   "source": [
    "import torch\n",
    "from sn2_cuda import SN2Solver\n",
    "\n",
    "device = torch.device(\"cuda\")\n",
    "\n",
    "struct = torch.tensor([\n",
    "        [1, 1, 1, 0],\n",
    "        [0, 1, 0, 1],\n",
    "        [1, 0, 0, 0],\n",
    "        [0, 1, 0, 0],\n",
    "        [0, 0, 1, 0],\n",
    "        [0, 0, 0, 1],\n",
    "        [0, 1, 1, 1],  # V_X\n",
    "        [0, 0, 1, 0],  # V_BP\n",
    "        [0, 0, 0, 1],  # V_BMI\n",
    "        [0, 0, 0, 0],  # V_Y\n",
    "    ], dtype=torch.bool, device=device)\n",
    "\n",
    "sample_covariance = torch.tensor([\n",
    "        [2,  3,  6,  8],\n",
    "        [3,  7, 12, 16],\n",
    "        [6, 12, 23, 30],\n",
    "        [8, 16, 30, 41],\n",
    "    ], device=device)"
   ]
  },
  {
   "cell_type": "markdown",
   "metadata": {
    "pycharm": {
     "name": "#%% md\n"
    }
   },
   "source": [
    "We may initialize the solver with the accumulation method, instead of the usual method."
   ]
  },
  {
   "cell_type": "code",
   "execution_count": 2,
   "metadata": {
    "pycharm": {
     "name": "#%%\n"
    }
   },
   "outputs": [],
   "source": [
    "pmDAG = SN2Solver(\n",
    "    struct, \n",
    "    sample_covariance=sample_covariance, \n",
    "    method=SN2Solver.METHODS.ACCUM\n",
    ")"
   ]
  },
  {
   "cell_type": "markdown",
   "metadata": {
    "pycharm": {
     "name": "#%% md\n"
    }
   },
   "source": [
    "Note that we set `method=sc.SEMNANSolver.METHODS.ACCUM` in the initialization. Alternatively, we could use `method=sc.SEMNANSolver.METHODS.COVAR`.\n",
    "Now, we can start the computation using the same algorithm as in [introduction](introduction.ipynb)."
   ]
  },
  {
   "cell_type": "code",
   "execution_count": 3,
   "metadata": {
    "pycharm": {
     "name": "#%%\n"
    }
   },
   "outputs": [
    {
     "name": "stdout",
     "output_type": "stream",
     "text": [
      "iteration=0          loss=8.0531         \n",
      "iteration=1000       loss=1.4745         \n",
      "iteration=2000       loss=0.63672        \n",
      "iteration=3000       loss=0.040596       \n",
      "iteration=4000       loss=1.3947e-05     \n"
     ]
    }
   ],
   "source": [
    "max_iterations = 10000\n",
    "min_error = 1.0e-7\n",
    "optim = torch.optim.Adamax([pmDAG.weights], lr=0.001)\n",
    "\n",
    "for i in range(max_iterations):\n",
    "    pmDAG.forward()\n",
    "    error = pmDAG.loss().item()\n",
    "\n",
    "    if error < min_error:\n",
    "        break\n",
    "\n",
    "    pmDAG.backward()\n",
    "    optim.step()\n",
    "\n",
    "    if i % (max_iterations / 10) == 0:\n",
    "        print(f\"iteration={i:<10} loss={error:<15.5}\")\n",
    "else:\n",
    "    print(\"Did not converge in the maximum number of iterations!\")"
   ]
  },
  {
   "cell_type": "markdown",
   "metadata": {
    "pycharm": {
     "name": "#%% md\n"
    }
   },
   "source": [
    "The resulting visible covariance matrix is:"
   ]
  },
  {
   "cell_type": "code",
   "execution_count": 4,
   "metadata": {
    "pycharm": {
     "name": "#%%\n"
    }
   },
   "outputs": [
    {
     "name": "stdout",
     "output_type": "stream",
     "text": [
      "tensor([[ 2.0005,  3.0001,  6.0007,  8.0005],\n",
      "        [ 3.0001,  6.9994, 11.9997, 15.9989],\n",
      "        [ 6.0007, 11.9997, 23.0007, 30.0013],\n",
      "        [ 8.0005, 15.9989, 30.0013, 41.0006]], device='cuda:0')\n"
     ]
    }
   ],
   "source": [
    "print(pmDAG.visible_covariance_)"
   ]
  }
 ],
 "metadata": {
  "kernelspec": {
   "display_name": "Python 3 (ipykernel)",
   "language": "python",
   "name": "python3"
  },
  "language_info": {
   "codemirror_mode": {
    "name": "ipython",
    "version": 3
   },
   "file_extension": ".py",
   "mimetype": "text/x-python",
   "name": "python",
   "nbconvert_exporter": "python",
   "pygments_lexer": "ipython3",
   "version": "3.9.7"
  }
 },
 "nbformat": 4,
 "nbformat_minor": 1
}