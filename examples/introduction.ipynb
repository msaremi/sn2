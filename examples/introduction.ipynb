{
 "cells": [
  {
   "cell_type": "markdown",
   "metadata": {},
   "source": [
    "# Introduction\n",
    "\n",
    "**The &mu;-SEMNAN Solver** finds the fittest parameters in a linear Gaussian Acyclic Margincal Ancestral Structural Equation Model (AMASEM).\n",
    "As we will see, there are more than one method to compute the fittest parameters of the\n",
    "AMASEM structure."
   ]
  },
  {
   "cell_type": "markdown",
   "metadata": {},
   "source": [
    "We start by loading the libraries. The SEMNAN Solver uses PyTorch&reg; and depends on CUDA&reg; as the backend.\n",
    "We will need to load pytorch and make sure that the backend used is CUDA. We do this by\n",
    "introducing a `device` variable that is always set to cuda and pass it to any tensor we make.\n",
    "We also import our library `semnan_cuda`."
   ]
  },
  {
   "cell_type": "code",
   "execution_count": 1,
   "metadata": {},
   "outputs": [],
   "source": [
    "import torch\n",
    "import semnan_cuda as sc\n",
    "\n",
    "device = torch.device(\"cuda\")"
   ]
  },
  {
   "cell_type": "markdown",
   "metadata": {
    "pycharm": {
     "name": "#%% md\n"
    }
   },
   "source": [
    "Consider the following AMASEM.\n",
    "\n",
    "![alt text](img/health-graph.svg \"Health Graph\")\n",
    "\n",
    "It is composed of four visible variables and six latent variables.\n",
    "We will compile this graph as an adgacency matrix. The encoding is simple: the latent variables go on top\n",
    "and the remaining variables (the visible ones) form an upper-triangular matrix at the bottom."
   ]
  },
  {
   "cell_type": "code",
   "execution_count": 9,
   "metadata": {
    "pycharm": {
     "name": "#%%\n"
    }
   },
   "outputs": [],
   "source": [
    "struct = torch.tensor([\n",
    "        [1, 1, 1, 0],\n",
    "        [0, 1, 0, 1],\n",
    "        [1, 0, 0, 0],\n",
    "        [0, 1, 0, 0],\n",
    "        [0, 0, 1, 0],\n",
    "        [0, 0, 0, 1],\n",
    "        [0, 1, 1, 1],  # X\n",
    "        [0, 0, 1, 0],  # V_BP\n",
    "        [0, 0, 0, 1],  # V_BMI\n",
    "        [0, 0, 0, 0],  # Y\n",
    "    ], dtype=torch.bool)"
   ]
  },
  {
   "cell_type": "markdown",
   "metadata": {
    "pycharm": {
     "name": "#%% md\n"
    }
   },
   "source": [
    "In order to obtain the fittest parameters, we fit this structure to a `SEMNANSolver`.\n"
   ]
  },
  {
   "cell_type": "code",
   "execution_count": 10,
   "metadata": {
    "pycharm": {
     "name": "#%%\n"
    }
   },
   "outputs": [],
   "source": [
    "semnan = sc.SEMNANSolver(struct)"
   ]
  },
  {
   "cell_type": "markdown",
   "metadata": {
    "pycharm": {
     "name": "#%% md\n"
    }
   },
   "source": [
    "We will obtain the fittest parameters (that is the optimal weights between the variables)\n",
    "with respect to the sample covariance matrix. It is the observed covariance matrix that has been induced by the causal system."
   ]
  },
  {
   "cell_type": "code",
   "execution_count": 11,
   "metadata": {
    "pycharm": {
     "name": "#%%\n"
    }
   },
   "outputs": [],
   "source": [
    "sample_covariance = torch.tensor([\n",
    "        [2,  3,  6,  8],\n",
    "        [3,  7, 12, 16],\n",
    "        [6, 12, 23, 30],\n",
    "        [8, 16, 30, 41],\n",
    "    ])\n",
    "\n",
    "semnan.sample_covariance = sample_covariance"
   ]
  },
  {
   "cell_type": "markdown",
   "metadata": {
    "pycharm": {
     "name": "#%% md\n"
    }
   },
   "source": [
    "The newly created `SEMNANSolver` object will use the gradient descent method to compute the optimal weights.\n",
    "However, it only computes the partial derivatives of the objective function with respect to the weights.\n",
    "Therefore, we need to use an arbitrary optimizer to update the weights in each step."
   ]
  },
  {
   "cell_type": "code",
   "execution_count": 12,
   "metadata": {
    "pycharm": {
     "name": "#%%\n"
    }
   },
   "outputs": [],
   "source": [
    "optim = torch.optim.Adamax([semnan.weights], lr=0.001)"
   ]
  },
  {
   "cell_type": "markdown",
   "metadata": {
    "pycharm": {
     "name": "#%% md\n"
    }
   },
   "source": [
    "That's it! We only need to start training the SEMNANSolver. Training the SEMNANSolver is pretty much\n",
    "like training a neural network: we take a `forward()` and `backward()` step and then call the `step()` method\n",
    "of the optimizer to do the rest. For this, we first set the stopping conditions:"
   ]
  },
  {
   "cell_type": "code",
   "execution_count": 13,
   "metadata": {
    "pycharm": {
     "name": "#%%\n"
    }
   },
   "outputs": [],
   "source": [
    "max_iterations = 10000\n",
    "min_error = 1.0e-7"
   ]
  },
  {
   "cell_type": "markdown",
   "metadata": {
    "pycharm": {
     "name": "#%% md\n"
    }
   },
   "source": [
    "The following trains the AMASEM. We would also like to print valuable information at each step of the optimizer.\n"
   ]
  },
  {
   "cell_type": "code",
   "execution_count": 14,
   "metadata": {
    "pycharm": {
     "name": "#%%\n"
    }
   },
   "outputs": [
    {
     "name": "stdout",
     "output_type": "stream",
     "text": [
      "iteration=0          loss=12.965         \n",
      "iteration=1000       loss=1.7852         \n",
      "iteration=2000       loss=1.0448         \n",
      "iteration=3000       loss=0.39159        \n",
      "iteration=4000       loss=0.094944       \n",
      "iteration=5000       loss=0.036318       \n",
      "iteration=6000       loss=0.012206       \n",
      "iteration=7000       loss=0.0025386      \n",
      "iteration=8000       loss=8.3685e-05     \n"
     ]
    }
   ],
   "source": [
    "for i in range(max_iterations):\n",
    "    semnan.forward()\n",
    "    error = semnan.loss().item()\n",
    "\n",
    "    if error < min_error:\n",
    "        break\n",
    "\n",
    "    semnan.backward()\n",
    "    optim.step()\n",
    "\n",
    "    if i % (max_iterations / 10) == 0:\n",
    "        print(f\"iteration={i:<10} loss={error:<15.5}\")\n",
    "else:\n",
    "    print(\"Did not converge in the maximum number of iterations!\")"
   ]
  },
  {
   "cell_type": "markdown",
   "metadata": {},
   "source": [
    "Now that the AMASEM has been parametrized using the `SEMNANSolver`, we can print out the induced visible covariance matrix..."
   ]
  },
  {
   "cell_type": "code",
   "execution_count": 15,
   "metadata": {
    "pycharm": {
     "name": "#%%\n"
    }
   },
   "outputs": [
    {
     "name": "stdout",
     "output_type": "stream",
     "text": [
      "tensor([[ 1.9993,  2.9969,  5.9954,  7.9940],\n",
      "        [ 2.9969,  6.9904, 11.9849, 15.9800],\n",
      "        [ 5.9954, 11.9849, 22.9767, 29.9691],\n",
      "        [ 7.9940, 15.9800, 29.9691, 40.9590]], device='cuda:0')\n"
     ]
    }
   ],
   "source": [
    "print(semnan.visible_covariance_)"
   ]
  },
  {
   "cell_type": "markdown",
   "metadata": {
    "pycharm": {
     "name": "#%% md\n"
    }
   },
   "source": [
    "... and the weights matrix of the AMASEM."
   ]
  },
  {
   "cell_type": "code",
   "execution_count": 16,
   "metadata": {
    "pycharm": {
     "name": "#%%\n"
    }
   },
   "outputs": [
    {
     "name": "stdout",
     "output_type": "stream",
     "text": [
      "tensor([[ 2.7763e-01,  1.5870e+00,  6.8930e+00, -0.0000e+00],\n",
      "        [ 0.0000e+00,  1.1762e-01, -0.0000e+00,  1.2119e+00],\n",
      "        [-1.3864e+00, -0.0000e+00,  0.0000e+00,  0.0000e+00],\n",
      "        [ 0.0000e+00, -2.5046e-01, -0.0000e+00,  0.0000e+00],\n",
      "        [ 0.0000e+00, -0.0000e+00, -1.9917e-06, -0.0000e+00],\n",
      "        [-0.0000e+00,  0.0000e+00,  0.0000e+00, -6.0673e-01],\n",
      "        [-0.0000e+00,  1.2786e+00,  6.5536e+00,  1.4268e-01],\n",
      "        [-0.0000e+00,  0.0000e+00, -3.0101e+00, -0.0000e+00],\n",
      "        [ 0.0000e+00, -0.0000e+00, -0.0000e+00,  1.2858e+00],\n",
      "        [-0.0000e+00, -0.0000e+00, -0.0000e+00,  0.0000e+00]], device='cuda:0')\n"
     ]
    }
   ],
   "source": [
    "print(semnan.weights)"
   ]
  }
 ],
 "metadata": {
  "kernelspec": {
   "display_name": "PyCharm (An-AI-Chatbot-in-Python-and-Flask-main)",
   "language": "python",
   "name": "pycharm-cba583ec"
  },
  "language_info": {
   "codemirror_mode": {
    "name": "ipython",
    "version": 3
   },
   "file_extension": ".py",
   "mimetype": "text/x-python",
   "name": "python",
   "nbconvert_exporter": "python",
   "pygments_lexer": "ipython3",
   "version": "3.9.7"
  }
 },
 "nbformat": 4,
 "nbformat_minor": 1
}
