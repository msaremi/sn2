{
 "cells": [
  {
   "cell_type": "markdown",
   "source": [
    "# Introduction\n",
    "\n",
    "**The SN² Solver** finds the optimal parameters of a Gaussian pmDAG.\n",
    "As we will see, there are more than one method to compute the optimal parameters of the pmDAG structure."
   ],
   "metadata": {
    "collapsed": false,
    "pycharm": {
     "name": "#%% md\n"
    }
   }
  },
  {
   "cell_type": "markdown",
   "source": [
    "We start by loading the libraries. The SN² Solver uses PyTorch&reg; and depends on CUDA&reg; as the backend.\n",
    "We will need to load pytorch and make sure that the backend used is CUDA. We do this by\n",
    "introducing a `device` variable that is always set to cuda and pass it to any tensor we make.\n",
    "We also import our library `sn2_cuda`."
   ],
   "metadata": {
    "collapsed": false,
    "pycharm": {
     "name": "#%% md\n"
    }
   }
  },
  {
   "cell_type": "code",
   "execution_count": 1,
   "metadata": {
    "pycharm": {
     "name": "#%%\n"
    }
   },
   "outputs": [],
   "source": [
    "import torch\n",
    "import sn2_cuda as sn2\n",
    "\n",
    "device = torch.device(\"cuda\")"
   ]
  },
  {
   "cell_type": "markdown",
   "metadata": {
    "pycharm": {
     "name": "#%% md\n"
    }
   },
   "source": [
    "Consider the following pmDAG.\n",
    "\n",
    "![alt text](img/health-graph.svg \"Health Graph\")\n",
    "\n",
    "It is composed of four visible variables and six latent variables.\n",
    "We will compile this graph as an adgacency matrix. The encoding is simple: the latent variables go on top\n",
    "and the remaining variables (the visible ones) form an upper-triangular matrix at the bottom."
   ]
  },
  {
   "cell_type": "code",
   "execution_count": 2,
   "metadata": {
    "pycharm": {
     "name": "#%%\n"
    }
   },
   "outputs": [],
   "source": [
    "struct = torch.tensor([\n",
    "        [1, 1, 1, 0],\n",
    "        [0, 1, 0, 1],\n",
    "        [1, 0, 0, 0],\n",
    "        [0, 1, 0, 0],\n",
    "        [0, 0, 1, 0],\n",
    "        [0, 0, 0, 1],\n",
    "        [0, 1, 1, 1],  # V_X\n",
    "        [0, 0, 1, 0],  # V_BP\n",
    "        [0, 0, 0, 1],  # V_BMI\n",
    "        [0, 0, 0, 0],  # V_Y\n",
    "    ], dtype=torch.bool, device=device)"
   ]
  },
  {
   "cell_type": "markdown",
   "metadata": {
    "pycharm": {
     "name": "#%% md\n"
    }
   },
   "source": [
    "In order to obtain the fittest parameters, we fit this structure to a `SN2Solver`.\n"
   ]
  },
  {
   "cell_type": "code",
   "execution_count": 3,
   "metadata": {
    "pycharm": {
     "name": "#%%\n"
    }
   },
   "outputs": [],
   "source": [
    "pmDAG = sn2.SN2Solver(struct)"
   ]
  },
  {
   "cell_type": "markdown",
   "metadata": {
    "pycharm": {
     "name": "#%% md\n"
    }
   },
   "source": [
    "We will obtain the fittest parameters (that is the optimal weights between the variables)\n",
    "with respect to the sample covariance matrix. It is the observed covariance matrix that has been induced by the causal system."
   ]
  },
  {
   "cell_type": "code",
   "execution_count": 4,
   "metadata": {
    "pycharm": {
     "name": "#%%\n"
    }
   },
   "outputs": [],
   "source": [
    "sample_covariance = torch.tensor([\n",
    "        [2,  3,  6,  8],\n",
    "        [3,  7, 12, 16],\n",
    "        [6, 12, 23, 30],\n",
    "        [8, 16, 30, 41],\n",
    "    ], device=device)\n",
    "\n",
    "pmDAG.sample_covariance = sample_covariance"
   ]
  },
  {
   "cell_type": "markdown",
   "metadata": {
    "pycharm": {
     "name": "#%% md\n"
    }
   },
   "source": [
    "The newly created `SN2Solver` object will use the gradient descent method to compute the optimal weights.\n",
    "However, it only computes the partial derivatives of the objective function with respect to the weights.\n",
    "Therefore, we need to use an arbitrary optimizer to update the weights in each step."
   ]
  },
  {
   "cell_type": "code",
   "execution_count": 5,
   "metadata": {
    "pycharm": {
     "name": "#%%\n"
    }
   },
   "outputs": [],
   "source": [
    "optim = torch.optim.Adamax([pmDAG.weights], lr=0.001)"
   ]
  },
  {
   "cell_type": "markdown",
   "metadata": {
    "pycharm": {
     "name": "#%% md\n"
    }
   },
   "source": [
    "That's it! We only need to start training the SN2Solver. Training the SN2Solver is pretty much\n",
    "like training a neural network: we take a `forward()` and `backward()` step and then call the `step()` method\n",
    "of the optimizer to do the rest. For this, we first set the stopping conditions:"
   ]
  },
  {
   "cell_type": "code",
   "execution_count": 6,
   "metadata": {
    "pycharm": {
     "name": "#%%\n"
    }
   },
   "outputs": [],
   "source": [
    "max_iterations = 10000\n",
    "min_error = 1.0e-7"
   ]
  },
  {
   "cell_type": "markdown",
   "metadata": {
    "pycharm": {
     "name": "#%% md\n"
    }
   },
   "source": [
    "The following trains the pmDAG. We would also like to print valuable information at each step of the optimizer.\n"
   ]
  },
  {
   "cell_type": "code",
   "execution_count": 7,
   "metadata": {
    "pycharm": {
     "name": "#%%\n"
    }
   },
   "outputs": [
    {
     "name": "stdout",
     "output_type": "stream",
     "text": [
      "iteration=0          loss=23.049         \n",
      "iteration=1000       loss=3.3946         \n",
      "iteration=2000       loss=0.7656         \n",
      "iteration=3000       loss=0.36466        \n",
      "iteration=4000       loss=0.02155        \n",
      "iteration=5000       loss=5.6028e-06     \n"
     ]
    }
   ],
   "source": [
    "for i in range(max_iterations):\n",
    "    pmDAG.forward()\n",
    "    error = pmDAG.loss().item()\n",
    "\n",
    "    if error < min_error:\n",
    "        break\n",
    "\n",
    "    pmDAG.backward()\n",
    "    optim.step()\n",
    "\n",
    "    if i % (max_iterations / 10) == 0:\n",
    "        print(f\"iteration={i:<10} loss={error:<15.5}\")\n",
    "else:\n",
    "    print(\"Did not converge in the maximum number of iterations!\")"
   ]
  },
  {
   "cell_type": "markdown",
   "metadata": {
    "pycharm": {
     "name": "#%% md\n"
    }
   },
   "source": [
    "Now that the pmDAG has been parametrized using the `SN2Solver`, we can print out the induced visible covariance matrix..."
   ]
  },
  {
   "cell_type": "code",
   "execution_count": 9,
   "outputs": [
    {
     "name": "stdout",
     "output_type": "stream",
     "text": [
      "tensor([[ 1.9988,  2.9999,  5.9986,  7.9981],\n",
      "        [ 2.9999,  7.0011, 12.0013, 16.0017],\n",
      "        [ 5.9986, 12.0013, 23.0003, 30.0002],\n",
      "        [ 7.9981, 16.0017, 30.0002, 41.0001]], device='cuda:0')\n"
     ]
    }
   ],
   "source": [
    "print(pmDAG.visible_covariance_)"
   ],
   "metadata": {
    "collapsed": false,
    "pycharm": {
     "name": "#%%\n"
    }
   }
  },
  {
   "cell_type": "markdown",
   "metadata": {
    "pycharm": {
     "name": "#%% md\n"
    }
   },
   "source": [
    "... and the weights matrix of the pmDAG."
   ]
  },
  {
   "cell_type": "code",
   "execution_count": 10,
   "metadata": {
    "pycharm": {
     "name": "#%%\n"
    }
   },
   "outputs": [
    {
     "name": "stdout",
     "output_type": "stream",
     "text": [
      "tensor([[-6.7116e-01,  1.4078e+00,  2.1650e+00, -0.0000e+00],\n",
      "        [-0.0000e+00,  9.4347e-01, -0.0000e+00,  5.0055e-01],\n",
      "        [-1.2443e+00, -0.0000e+00,  0.0000e+00, -0.0000e+00],\n",
      "        [-0.0000e+00, -2.7091e-01, -0.0000e+00, -0.0000e+00],\n",
      "        [-0.0000e+00, -0.0000e+00,  2.4145e-26,  0.0000e+00],\n",
      "        [-0.0000e+00, -0.0000e+00,  0.0000e+00,  1.2459e+00],\n",
      "        [-0.0000e+00,  1.9735e+00,  3.3452e+00,  4.7257e-01],\n",
      "        [ 0.0000e+00,  0.0000e+00,  2.5508e-01,  0.0000e+00],\n",
      "        [-0.0000e+00,  0.0000e+00, -0.0000e+00,  1.1759e+00],\n",
      "        [ 0.0000e+00,  0.0000e+00,  0.0000e+00,  0.0000e+00]], device='cuda:0')\n"
     ]
    }
   ],
   "source": [
    "print(pmDAG.weights)"
   ]
  }
 ],
 "metadata": {
  "kernelspec": {
   "display_name": "PyCharm (An-AI-Chatbot-in-Python-and-Flask-main)",
   "language": "python",
   "name": "pycharm-cba583ec"
  },
  "language_info": {
   "codemirror_mode": {
    "name": "ipython",
    "version": 3
   },
   "file_extension": ".py",
   "mimetype": "text/x-python",
   "name": "python",
   "nbconvert_exporter": "python",
   "pygments_lexer": "ipython3",
   "version": "3.9.7"
  }
 },
 "nbformat": 4,
 "nbformat_minor": 1
}